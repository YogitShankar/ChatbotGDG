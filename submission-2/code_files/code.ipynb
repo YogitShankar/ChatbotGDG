{
 "cells": [
  {
   "cell_type": "markdown",
   "metadata": {},
   "source": [
    "## Hi, Arsh Jaswal (230205) this side.\n",
    "### __Please read readme.md file before going through the chatbot__\n",
    "#### This is the sample output (Example) of the model generated in this jupyter notebook\n",
    "#### You will be able to see this output at end of this notebook.\n",
    "----\n",
    "1. maintains history\n",
    "2. used retrieved data\n",
    "3. used Llama3.2 for text generation\n",
    "4. local\n",
    "\n",
    "----\n",
    "```bash\n",
    "Welcome to the chatbot for CP, Type 'exit' or 'quit' to terminate the conversation.\n",
    "\n",
    "You:  It has finally been decided to build a roof over the football field in School 179. Its construction will require placing n consecutive vertical pillars. Furthermore, the headmaster wants the heights of all the pillars to form a permutation p of integers from 0 to n−1, where pi is the height of the i-th pillar from the left (1≤i≤n). As the chief, you know that the cost of construction of consecutive pillars is equal to the maximum value of the bitwise XOR of heights of all pairs of adjacent pillars. In other words, the cost of construction is equal to max1≤i≤n−1pi⊕pi+1, where ⊕ denotes the bitwise XOR operation. Find any sequence of pillar heights p of length n with the smallest construction cost. In this problem, a permutation is an array consisting of n distinct integers from 0 to n−1 in arbitrary order. For example, [2,3,1,0,4] is a permutation, but [1,0,1] is not a permutation (1 appears twice in the array) and [1,0,3] is also not a permutation (n=3, but 3 is in the array). Each test contains multiple test cases. The first line contains the number of test cases t (1≤t≤104). Description of the test cases follows. The only line for each test case contains a single integer n (2≤n≤2⋅105) — the number of pillars for the construction of the roof. It is guaranteed that the sum of n over all test cases does not exceed 2⋅105. For each test case print n integers p1, p2, …, pn — the sequence of pillar heights with the smallest construction cost. If there are multiple answers, print any of them. For n=2 there are 2 sequences of pillar heights:  For n=3 there are 6 sequences of pillar heights: \n",
    "Searching...\n",
    "\n",
    "Bot:  Welcome to our competitive programming chat! I'll be your assistant, and we can work through problems together.\n",
    "\n",
    "You've provided a section titled \"Similar Problem,\" which is problem 1632B - Roof Construction. This problem involves finding the minimum cost of constructing a roof with n consecutive vertical pillars, where the cost is determined by the maximum value of the bitwise XOR of heights of adjacent pillars.\n",
    "\n",
    "Let's break down the solution:\n",
    "\n",
    "1. The cost of construction is a power of two.\n",
    "2. The cost of construction is 2k, where k is the highest set bit in n−1.\n",
    "3. There will always be a pair of adjacent elements where one of them has the k-th bit set and the other one doesn't, so the cost is at least 2k.\n",
    "\n",
    "A simple construction that reaches this minimum cost is to have all numbers with their k-th bit set, followed by all numbers without the k-th bit set. This sequence ensures that there are no adjacent elements with different k-th bits, minimizing the cost.\n",
    "\n",
    "Now, let's move on to the next step. Since you've asked me to continue our chat as if it were a normal conversation, I'll ask: How can I assist you further? Do you have any specific questions about this problem or would you like to discuss other topics related to competitive programming?\n",
    "\n",
    "\n",
    "You:  thank you so much, It worked\n",
    "Searching...\n",
    "\n",
    "Bot:  So you're excited that the previous solution worked for you. That's great!\n",
    "\n",
    "Now, how can I help you with the current problem you'd like to tackle? Is there a specific problem you'd like to work on together, or do you need help understanding a particular concept or technique in competitive programming?\n",
    "\n",
    "Also, I noticed we have a conversation about problem 1632B - Roof Construction earlier. If you're still stuck on that one or would like to discuss it further, feel free to bring it up!\n",
    "```\n",
    "----"
   ]
  },
  {
   "cell_type": "markdown",
   "metadata": {},
   "source": [
    "## Lets start"
   ]
  },
  {
   "cell_type": "markdown",
   "metadata": {},
   "source": [
    "# Using Ollama's Llama3.2 for text generation."
   ]
  },
  {
   "cell_type": "code",
   "execution_count": 2,
   "metadata": {},
   "outputs": [
    {
     "name": "stderr",
     "output_type": "stream",
     "text": [
      "C:\\Users\\arshc\\AppData\\Local\\Temp\\ipykernel_35744\\2918043321.py:2: LangChainDeprecationWarning: The class `Ollama` was deprecated in LangChain 0.3.1 and will be removed in 1.0.0. An updated version of the class exists in the :class:`~langchain-ollama package and should be used instead. To use it run `pip install -U :class:`~langchain-ollama` and import as `from :class:`~langchain_ollama import OllamaLLM``.\n",
      "  ollama = Ollama(base_url='http://localhost:11434', model=\"llama3.2\")\n"
     ]
    }
   ],
   "source": [
    "from langchain.llms import Ollama\n",
    "ollama = Ollama(base_url='http://localhost:11434', model=\"llama3.2\")"
   ]
  },
  {
   "cell_type": "markdown",
   "metadata": {},
   "source": [
    "## Defining class CodeBERTEmbedder and VectorStore\n",
    "----"
   ]
  },
  {
   "cell_type": "markdown",
   "metadata": {},
   "source": [
    "### __CodeBERTEmbedder__ to generate embeddings from text"
   ]
  },
  {
   "cell_type": "code",
   "execution_count": 3,
   "metadata": {},
   "outputs": [],
   "source": [
    "import faiss\n",
    "import numpy as np\n",
    "import torch\n",
    "from transformers import RobertaTokenizer, RobertaForMaskedLM\n",
    "\n",
    "class CodeBERTEmbedder:\n",
    "    def __init__(self):\n",
    "        self.tokenizer = RobertaTokenizer.from_pretrained(\"microsoft/codebert-base\")\n",
    "        self.model = RobertaForMaskedLM.from_pretrained(\"microsoft/codebert-base\")\n",
    "\n",
    "    def generate_embedding(self, text):\n",
    "        inputs = self.tokenizer(text, padding=\"max_length\", truncation=True, max_length=512, return_tensors=\"pt\")\n",
    "        with torch.no_grad():\n",
    "            outputs = self.model(**inputs, output_hidden_states=True)\n",
    "        lastHS = outputs.hidden_states[-1]\n",
    "\n",
    "        #Attention masking\n",
    "        attention_mask = inputs['attention_mask'].unsqueeze(-1)  #batch size, seq len, 1\n",
    "        masked_embeddings = lastHS * attention_mask \n",
    "        pooled_embedding = masked_embeddings.sum(dim=1) / attention_mask.sum(dim=1)  # Mean pooling\n",
    "\n",
    "        return pooled_embedding.squeeze().numpy()\n",
    "\n",
    "    def batch_generate_embeddings(self, texts):\n",
    "        inputs = self.tokenizer(texts, padding=True, truncation=True, max_length=512, return_tensors=\"pt\")\n",
    "        with torch.no_grad():\n",
    "            outputs = self.model(**inputs, output_hidden_states=True)\n",
    "        lastHS = outputs.hidden_states[-1]\n",
    "\n",
    "        attention_mask = inputs['attention_mask'].unsqueeze(-1)\n",
    "        masked_embeddings = lastHS * attention_mask\n",
    "        pooled_embeddings = masked_embeddings.sum(dim=1) / attention_mask.sum(dim=1)\n",
    "\n",
    "        return pooled_embeddings.numpy()\n"
   ]
  },
  {
   "cell_type": "markdown",
   "metadata": {},
   "source": [
    "### __VectorStore__ class to store embeddings of problems."
   ]
  },
  {
   "cell_type": "markdown",
   "metadata": {},
   "source": [
    "##### We can also use dummy questions (to handle more broader queries) by text generation models like Llama3.2 itself.\n",
    "##### Also the vector search is based on question embeddings. So if searched by solution, it won't work usually."
   ]
  },
  {
   "cell_type": "code",
   "execution_count": 58,
   "metadata": {},
   "outputs": [],
   "source": [
    "class VectorStore:\n",
    "    def __init__(self, embedding_dim):\n",
    "        self.index = faiss.IndexFlatL2(embedding_dim)\n",
    "        self.problem_store = {}\n",
    "        self.metadata_store = {}\n",
    "        self.solution_store = {}\n",
    "        self.prob_store = {}\n",
    "        self.meta_store = {}\n",
    "        self.soln_store = {}\n",
    "\n",
    "    def add_embeddings(self, problem_id, question_embedding, metadata_embedding, answer_embedding, problem, metadata, solution):\n",
    "        \n",
    "        #Normalization (L2)\n",
    "        question_embedding = question_embedding / np.linalg.norm(question_embedding)\n",
    "        question_embedding = np.array([question_embedding], dtype=np.float32)\n",
    "        self.index.add(question_embedding)\n",
    "\n",
    "        #Storing embeddings and texts\n",
    "        self.problem_store[problem_id] = question_embedding\n",
    "        self.metadata_store[problem_id] = metadata_embedding\n",
    "        self.solution_store[problem_id] = answer_embedding\n",
    "        self.prob_store[problem_id] = problem\n",
    "        self.meta_store[problem_id] = metadata\n",
    "        self.soln_store[problem_id] = solution\n",
    "\n",
    "    def search(self, query_question, top_k=2):\n",
    "        #normalization\n",
    "        query_question = query_question / np.linalg.norm(query_question)\n",
    "        query_embedding = np.array([query_question], dtype=np.float32)\n",
    "        distances, indices = self.index.search(query_embedding, top_k)\n",
    "\n",
    "        results = []\n",
    "        for idx in indices[0]:\n",
    "            if idx < len(self.problem_store):\n",
    "                problem_id = list(self.problem_store.keys())[idx]\n",
    "                problem = self.prob_store[problem_id]\n",
    "                metadata = self.meta_store[problem_id]\n",
    "                solution = self.soln_store[problem_id]\n",
    "                distance = distances[0][indices[0].tolist().index(idx)]\n",
    "                results.append((problem_id,problem, metadata, solution, distance))\n",
    "\n",
    "        return results\n"
   ]
  },
  {
   "cell_type": "markdown",
   "metadata": {},
   "source": [
    "## Next task is to store the files from problems, editorials, metadata directories in some datastructure so that we can use them"
   ]
  },
  {
   "cell_type": "code",
   "execution_count": 4,
   "metadata": {},
   "outputs": [],
   "source": [
    "import os\n",
    "import json\n",
    "os.chdir(\"C:/Users/arshc/ChatbotGDG/230205_Arsh_Jaswal\")"
   ]
  },
  {
   "cell_type": "code",
   "execution_count": 5,
   "metadata": {},
   "outputs": [
    {
     "name": "stderr",
     "output_type": "stream",
     "text": [
      "Some weights of RobertaForMaskedLM were not initialized from the model checkpoint at microsoft/codebert-base and are newly initialized: ['lm_head.bias', 'lm_head.decoder.bias', 'lm_head.dense.bias', 'lm_head.dense.weight', 'lm_head.layer_norm.bias', 'lm_head.layer_norm.weight']\n",
      "You should probably TRAIN this model on a down-stream task to be able to use it for predictions and inference.\n"
     ]
    }
   ],
   "source": [
    "\n",
    "def load_data_from_directories(problem_dir, editorial_dir, metadata_dir):\n",
    "    problems = {}\n",
    "    solutions = {}\n",
    "    metadata = {}\n",
    "\n",
    "    for filename in os.listdir(problem_dir):\n",
    "        problem_id = os.path.splitext(filename)[0]\n",
    "        with open(os.path.join(problem_dir, filename), \"r\", encoding=\"utf-8\") as f:\n",
    "            problems[problem_id] = f.read().strip()\n",
    "\n",
    "    for filename in os.listdir(editorial_dir):\n",
    "        problem_id = os.path.splitext(filename)[0]\n",
    "        with open(os.path.join(editorial_dir, filename), \"r\", encoding=\"utf-8\") as f:\n",
    "            solutions[problem_id] = f.read().strip()\n",
    "\n",
    "    for filename in os.listdir(metadata_dir):\n",
    "        problem_id = os.path.splitext(filename)[0]\n",
    "        with open(os.path.join(metadata_dir, filename), \"r\", encoding=\"utf-8\") as f:\n",
    "            metadata[problem_id] = json.load(f)\n",
    "\n",
    "    return problems, solutions, metadata\n",
    "\n",
    "\n",
    "if __name__ == \"__main__\":\n",
    "    embedder = CodeBERTEmbedder()\n",
    "    problem_dir = \"data/problems\"\n",
    "    editorial_dir = \"data/editorials\"\n",
    "    metadata_dir = \"data/metadata\"\n",
    "\n",
    "    problems, solutions, metadata = load_data_from_directories(problem_dir, editorial_dir, metadata_dir)\n",
    "\n",
    "    vector_store = VectorStore(embedding_dim=768)\n",
    "    for problem_id in problems:\n",
    "        if problem_id in solutions and problem_id in metadata:\n",
    "            problem_embedding = embedder.generate_embedding(problems[problem_id])\n",
    "            problem_text = problems[problem_id]\n",
    "            metadata_text = \", \".join(metadata[problem_id].get(\"tags\", []))\n",
    "            metadata_embedding = embedder.generate_embedding(metadata_text)\n",
    "            solution_embedding = embedder.generate_embedding(solutions[problem_id])\n",
    "\n",
    "            vector_store.add_embeddings(\n",
    "                problem_id=problem_id,\n",
    "                question_embedding=problem_embedding,\n",
    "                metadata_embedding=metadata_embedding,\n",
    "                answer_embedding=solution_embedding,\n",
    "                problem=problems[problem_id],\n",
    "                metadata=metadata[problem_id],\n",
    "                solution=solutions[problem_id],\n",
    "            )\n",
    "\n"
   ]
  },
  {
   "cell_type": "markdown",
   "metadata": {},
   "source": [
    "#### Took time of 21 min 11.7 sec to store all the files in array and from array to vectorstore map so that I can use FAISS.\n",
    "----"
   ]
  },
  {
   "cell_type": "markdown",
   "metadata": {},
   "source": [
    "## DEBUGGING (IGNORE)"
   ]
  },
  {
   "cell_type": "code",
   "execution_count": 6,
   "metadata": {},
   "outputs": [],
   "source": [
    "query_statement=\"\"\"\n",
    "It has finally been decided to build a roof over the football field in School 179. Its construction will require placing n consecutive vertical pillars. Furthermore, the headmaster wants the heights of all the pillars to form a permutation p of integers from 0 to n−1, where pi is the height of the i-th pillar from the left (1≤i≤n).\n",
    "As the chief, you know that the cost of construction of consecutive pillars is equal to the maximum value of the bitwise XOR of heights of all pairs of adjacent pillars. In other words, the cost of construction is equal to max1≤i≤n−1pi⊕pi+1, where ⊕ denotes the bitwise XOR operation.\n",
    "Find any sequence of pillar heights p of length n with the smallest construction cost.\n",
    "In this problem, a permutation is an array consisting of n distinct integers from 0 to n−1 in arbitrary order. For example, [2,3,1,0,4] is a permutation, but [1,0,1] is not a permutation (1 appears twice in the array) and [1,0,3] is also not a permutation (n=3, but 3 is in the array).\n",
    "Each test contains multiple test cases. The first line contains the number of test cases t (1≤t≤104). Description of the test cases follows.\n",
    "The only line for each test case contains a single integer n (2≤n≤2⋅105) — the number of pillars for the construction of the roof.\n",
    "It is guaranteed that the sum of n over all test cases does not exceed 2⋅105.\n",
    "For each test case print n integers p1, p2, …, pn — the sequence of pillar heights with the smallest construction cost.\n",
    "If there are multiple answers, print any of them.\n",
    "For n=2 there are 2 sequences of pillar heights: \n",
    "For n=3 there are 6 sequences of pillar heights: \n",
    "\"\"\""
   ]
  },
  {
   "cell_type": "code",
   "execution_count": 7,
   "metadata": {},
   "outputs": [],
   "source": [
    "query_statement=input()"
   ]
  },
  {
   "cell_type": "code",
   "execution_count": 8,
   "metadata": {},
   "outputs": [
    {
     "name": "stdout",
     "output_type": "stream",
     "text": [
      "Search Results:\n",
      "Problem ID: 1632B\n",
      "Distance: 0.005791706033051014\n",
      "---------------------------------------------\n",
      "Problem ID: 1920B\n",
      "Distance: 0.007134918123483658\n",
      "---------------------------------------------\n",
      "Problem ID: 1859C\n",
      "Distance: 0.007216574624180794\n",
      "---------------------------------------------\n",
      "No\n"
     ]
    }
   ],
   "source": [
    "user_query = query_statement\n",
    "query_embedding = embedder.generate_embedding(user_query)\n",
    "results = vector_store.search(query_question=query_embedding, top_k=3)\n",
    "\n",
    "f=0\n",
    "print(\"Search Results:\")\n",
    "for result in results:\n",
    "    problem_id, problem, metadata, solution, distance = result\n",
    "    print(f\"Problem ID: {problem_id}\")\n",
    "    if problem_id==\"1362A\":\n",
    "        f=1\n",
    "    # print(f\"Problem: {problem}\")\n",
    "    # print(f\"Tags: {metadata.get('tags', [])}\")\n",
    "    # print(f\"Solution: {solution}\")\n",
    "    print(f\"Distance: {distance}\")\n",
    "    print(\"---------\"*5)\n",
    "if f==1:\n",
    "    print(\"yes\")\n",
    "else:\n",
    "    print(\"No\")"
   ]
  },
  {
   "cell_type": "markdown",
   "metadata": {},
   "source": [
    "----\n",
    "## Defined a function below which takes query problem, vectorstore and embedder to find the nearest k problem.\n",
    "# __Note:__\n",
    "## I have set k=1, just to demonstrate, you can anytime change it to 3 or 5 or even more, according to the needs.\n",
    "----\n",
    "# How to choose k?\n",
    "#### increasing k will increase prompt, so there are higher chance that the retrieved contains the problem asked.\n",
    "##### Since prompt is now long due to higher k, it can also lead to some wrong results."
   ]
  },
  {
   "cell_type": "code",
   "execution_count": 30,
   "metadata": {},
   "outputs": [],
   "source": [
    "def search_problem_context(query_problem, vector_store=vector_store, embedder=embedder):\n",
    "\n",
    "\n",
    "    query_problem_embedding = embedder.generate_embedding(query_problem)\n",
    "\n",
    "\n",
    "    results = vector_store.search(\n",
    "        query_question=query_problem_embedding,\n",
    "        top_k=1\n",
    "    )\n",
    "\n",
    "    # Print the results\n",
    "    context=\"\"\n",
    "    temp=1\n",
    "\n",
    "    # if not results:\n",
    "    #     print(\"NO\")\n",
    "\n",
    "    for result in results:\n",
    "        # problem_id, problem, metadata, solution, distance = result\n",
    "        # print(f\"Problem ID: {problem_id}\")\n",
    "        # print(f\"Problem: {problem}\")\n",
    "        # print(f\"Tags: {metadata[\"tags\"]}\")\n",
    "        # print(f\"Solution: {solution}\")\n",
    "        # print(f\"Distance: {distance}\")\n",
    "        context=\"\\n\".join([context,\n",
    "        f\"\"\"\n",
    "    Context Number {temp}\n",
    "    Problem Number: {result[0]}\n",
    "    \n",
    "    Problem statement: {result[1]}\n",
    "\n",
    "    Tags: {result[2][\"tags\"]}\n",
    "\n",
    "    Solution: {result[3]}\n",
    "        \"\"\"]\n",
    "                    )\n",
    "        \n",
    "        temp+=1\n",
    "    \n",
    "    return context"
   ]
  },
  {
   "cell_type": "markdown",
   "metadata": {},
   "source": [
    "# A template which I will directly pass to the langchain.\n",
    "### This serves as the first hand information for model."
   ]
  },
  {
   "cell_type": "code",
   "execution_count": 46,
   "metadata": {},
   "outputs": [],
   "source": [
    "\n",
    "template=\"\"\"\n",
    "You are a competitive programming assistant bot.\n",
    "Below are three sections: \"Query\", \"Similar Problem\", \"Chat History\".\n",
    "\n",
    "If \"Query\" is normal conversation, continue chat, you can also use chat history.\n",
    "\n",
    "If \"Query\" is a question statement, Use \"Similar Problem\" below as well as your own database to answer the query.\n",
    "\"Similar Problem\" section has same or similar problem statement to query. And also has its OFFICIAL solution.\n",
    "If it's similar or same, return this solution or answer.\n",
    "\n",
    "\n",
    "\n",
    "Query: \n",
    "{user_input}\n",
    "\n",
    "\n",
    "\n",
    "Similar Problem:\n",
    "\n",
    "{Similar_Problem}\n",
    "\n",
    "\n",
    "\n",
    "Chat History: {history}\n",
    "\n",
    "\"\"\"\n"
   ]
  },
  {
   "cell_type": "markdown",
   "metadata": {},
   "source": [
    "### The model maintains chat history. If the chat is too long, it may lead to some misleading answers due to context limit or token limit exceeded.\n",
    "### Prefer clearing history if it nothing to do with previous problem by rerunning the Chatbot implementation cell.\n",
    "\n",
    "-----\n",
    "## Debugging again (ignore)"
   ]
  },
  {
   "cell_type": "code",
   "execution_count": 32,
   "metadata": {},
   "outputs": [
    {
     "name": "stdout",
     "output_type": "stream",
     "text": [
      "\n",
      "\n",
      "    Context Number 1\n",
      "    Problem Number: 1632B\n",
      "    \n",
      "    Problem statement: It has finally been decided to build a roof over the football field in School 179. Its construction will require placing n consecutive vertical pillars. Furthermore, the headmaster wants the heights of all the pillars to form a permutation p of integers from 0 to n−1, where pi is the height of the i-th pillar from the left (1≤i≤n).\n",
      "As the chief, you know that the cost of construction of consecutive pillars is equal to the maximum value of the bitwise XOR of heights of all pairs of adjacent pillars. In other words, the cost of construction is equal to max1≤i≤n−1pi⊕pi+1, where ⊕ denotes the bitwise XOR operation.\n",
      "Find any sequence of pillar heights p of length n with the smallest construction cost.\n",
      "In this problem, a permutation is an array consisting of n distinct integers from 0 to n−1 in arbitrary order. For example, [2,3,1,0,4] is a permutation, but [1,0,1] is not a permutation (1 appears twice in the array) and [1,0,3] is also not a permutation (n=3, but 3 is in the array).\n",
      "Each test contains multiple test cases. The first line contains the number of test cases t (1≤t≤104). Description of the test cases follows.\n",
      "The only line for each test case contains a single integer n (2≤n≤2⋅105) — the number of pillars for the construction of the roof.\n",
      "It is guaranteed that the sum of n over all test cases does not exceed 2⋅105.\n",
      "For each test case print n integers p1, p2, …, pn — the sequence of pillar heights with the smallest construction cost.\n",
      "If there are multiple answers, print any of them.\n",
      "For n=2 there are 2 sequences of pillar heights: \n",
      "For n=3 there are 6 sequences of pillar heights:\n",
      "\n",
      "    Tags: ['bitmasks', 'constructive algorithms', '*1000']\n",
      "\n",
      "    Solution: 1632B — Roof Construction Hint 1The cost of construction is a power of two. Hint 2The cost of construction is 2k, where k is the highest set bit in n−1. SolutionLet k be the highest set bit in n−1. There will always be a pair of adjacent elements where one of them has the k-th bit set and the other one doesn't, so the cost is at least 2k. A simple construction that reaches it is 2k−1, 2k−2, …, 0, 2k, 2k+1, …, n−1.Time complexity: O(n)Bonus: count the number of permutations with the minimum cost. Solution codes C++ code. Python code.\n",
      "        \n",
      "YES\n"
     ]
    }
   ],
   "source": [
    "cont=search_problem_context(\"\"\"\n",
    "It has finally been decided to build a roof over the football field in School 179. Its construction will require placing n consecutive vertical pillars. Furthermore, the headmaster wants the heights of all the pillars to form a permutation p of integers from 0 to n−1, where pi is the height of the i-th pillar from the left (1≤i≤n).\n",
    "As the chief, you know that the cost of construction of consecutive pillars is equal to the maximum value of the bitwise XOR of heights of all pairs of adjacent pillars. In other words, the cost of construction is equal to max1≤i≤n−1pi⊕pi+1, where ⊕ denotes the bitwise XOR operation.\n",
    "Find any sequence of pillar heights p of length n with the smallest construction cost.\n",
    "In this problem, a permutation is an array consisting of n distinct integers from 0 to n−1 in arbitrary order. For example, [2,3,1,0,4] is a permutation, but [1,0,1] is not a permutation (1 appears twice in the array) and [1,0,3] is also not a permutation (n=3, but 3 is in the array).\n",
    "Each test contains multiple test cases. The first line contains the number of test cases t (1≤t≤104). Description of the test cases follows.\n",
    "The only line for each test case contains a single integer n (2≤n≤2⋅105) — the number of pillars for the construction of the roof.\n",
    "It is guaranteed that the sum of n over all test cases does not exceed 2⋅105.\n",
    "For each test case print n integers p1, p2, …, pn — the sequence of pillar heights with the smallest construction cost.\n",
    "If there are multiple answers, print any of them.\n",
    "For n=2 there are 2 sequences of pillar heights: \n",
    "For n=3 there are 6 sequences of pillar heights: \n",
    "\"\"\")\n",
    "\n",
    "print(cont)\n",
    "if \"1632\" in cont:\n",
    "    print(\"YES\")\n",
    "if \"1682\" in cont:\n",
    "    print(\"YES\")\n",
    "if \"2037\" in cont:\n",
    "    print(\"YES\")"
   ]
  },
  {
   "cell_type": "markdown",
   "metadata": {},
   "source": [
    "-----\n",
    "# ChatBot for CP:"
   ]
  },
  {
   "cell_type": "code",
   "execution_count": 59,
   "metadata": {},
   "outputs": [],
   "source": [
    "from langchain_ollama import OllamaLLM\n",
    "from langchain_core.prompts import ChatPromptTemplate\n",
    "\n",
    "\n",
    "# from IPython.display import display, clear_output\n",
    "\n",
    "model=OllamaLLM(model=\"llama3.2\")\n",
    "\n",
    "prompt=ChatPromptTemplate.from_template(template)\n",
    "\n",
    "chain=prompt | model\n",
    "\n",
    "def handle_convo():\n",
    "    history=\"\"\n",
    "    print(\"Welcome to the chatbot for CP, Type 'exit' or 'quit' to terminate the conversation. Keep conversation relevant.\\nIf you are asking a question, Just copy paste the whole problem statement and Input section from codeforces site.\")\n",
    "    while True:\n",
    "        print(\"\\n\\n\")\n",
    "        user_input=input(\"You: \")\n",
    "        if user_input.lower() in [\"exit\",\"quit\"]:\n",
    "            break\n",
    "        print(\"You: \",user_input)\n",
    "        print(\"Searching...\")\n",
    "        context=search_problem_context(user_input)\n",
    "        # print(context)\n",
    "        out=chain.invoke({\"history\":history,\"user_input\":user_input,\"Similar_Problem\":context})\n",
    "        \n",
    "        # clear_output(wait=True)\n",
    "        print(\"\\n\")\n",
    "        print(\"Bot: \", out)\n",
    "\n",
    "        history += f\"\\nUser: {user_input}\\nAI: {out}\"\n",
    "        # display(f\"User: {user_input}\\nAI: {out}\")"
   ]
  },
  {
   "cell_type": "markdown",
   "metadata": {},
   "source": [
    "# Run chatbot here:\n",
    "# __NOTE__:\n",
    "When asking direct question to model, paste whole statement, \"Input\", \"Output\" section from codeforces page."
   ]
  },
  {
   "cell_type": "code",
   "execution_count": 52,
   "metadata": {},
   "outputs": [
    {
     "name": "stdout",
     "output_type": "stream",
     "text": [
      "Welcome to the chatbot for CP, Type 'exit' or 'quit' to terminate the conversation.\n",
      "You:  It has finally been decided to build a roof over the football field in School 179. Its construction will require placing n consecutive vertical pillars. Furthermore, the headmaster wants the heights of all the pillars to form a permutation p of integers from 0 to n−1, where pi is the height of the i-th pillar from the left (1≤i≤n). As the chief, you know that the cost of construction of consecutive pillars is equal to the maximum value of the bitwise XOR of heights of all pairs of adjacent pillars. In other words, the cost of construction is equal to max1≤i≤n−1pi⊕pi+1, where ⊕ denotes the bitwise XOR operation. Find any sequence of pillar heights p of length n with the smallest construction cost. In this problem, a permutation is an array consisting of n distinct integers from 0 to n−1 in arbitrary order. For example, [2,3,1,0,4] is a permutation, but [1,0,1] is not a permutation (1 appears twice in the array) and [1,0,3] is also not a permutation (n=3, but 3 is in the array). Each test contains multiple test cases. The first line contains the number of test cases t (1≤t≤104). Description of the test cases follows. The only line for each test case contains a single integer n (2≤n≤2⋅105) — the number of pillars for the construction of the roof. It is guaranteed that the sum of n over all test cases does not exceed 2⋅105. For each test case print n integers p1, p2, …, pn — the sequence of pillar heights with the smallest construction cost. If there are multiple answers, print any of them. For n=2 there are 2 sequences of pillar heights:  For n=3 there are 6 sequences of pillar heights: \n",
      "Searching...\n",
      "Bot:  Welcome to our competitive programming chat! I'll be your assistant, and we can work through problems together.\n",
      "\n",
      "You've provided a section titled \"Similar Problem,\" which is problem 1632B - Roof Construction. This problem involves finding the minimum cost of constructing a roof with n consecutive vertical pillars, where the cost is determined by the maximum value of the bitwise XOR of heights of adjacent pillars.\n",
      "\n",
      "Let's break down the solution:\n",
      "\n",
      "1. The cost of construction is a power of two.\n",
      "2. The cost of construction is 2k, where k is the highest set bit in n−1.\n",
      "3. There will always be a pair of adjacent elements where one of them has the k-th bit set and the other one doesn't, so the cost is at least 2k.\n",
      "\n",
      "A simple construction that reaches this minimum cost is to have all numbers with their k-th bit set, followed by all numbers without the k-th bit set. This sequence ensures that there are no adjacent elements with different k-th bits, minimizing the cost.\n",
      "\n",
      "Now, let's move on to the next step. Since you've asked me to continue our chat as if it were a normal conversation, I'll ask: How can I assist you further? Do you have any specific questions about this problem or would you like to discuss other topics related to competitive programming?\n",
      "You:  thank you so much, It worked\n",
      "Searching...\n",
      "Bot:  So you're excited that the previous solution worked for you. That's great!\n",
      "\n",
      "Now, how can I help you with the current problem you'd like to tackle? Is there a specific problem you'd like to work on together, or do you need help understanding a particular concept or technique in competitive programming?\n",
      "\n",
      "Also, I noticed we have a conversation about problem 1632B - Roof Construction earlier. If you're still stuck on that one or would like to discuss it further, feel free to bring it up!\n"
     ]
    }
   ],
   "source": [
    "\n",
    "if __name__ == \"__main__\":\n",
    "    handle_convo()"
   ]
  },
  {
   "cell_type": "markdown",
   "metadata": {},
   "source": [
    "### As you can see, I asked him about the problem statement and input and it guessed it is from __1632B__ (which is correct).\n",
    "It also handles case where we only send conversational messages\n",
    "_______\n",
    "```bash\n",
    "\n",
    "You:  thank you so much, It worked\n",
    "Searching...\n",
    "Bot:  So you're excited that the previous solution worked for you. That's great!\n",
    "\n",
    "Now, how can I help you with the current problem you'd like to tackle? Is there a specific problem you'd like to work on together, or do you need help understanding a particular concept or technique in competitive programming?\n",
    "\n",
    "Also, I noticed we have a conversation about problem 1632B - Roof Construction earlier. If you're still stuck on that one or would like to discuss it further, feel free to bring it up!\n",
    "```\n",
    "_____"
   ]
  },
  {
   "cell_type": "markdown",
   "metadata": {},
   "source": [
    "Also, The model is remembering the past conversation and it can be confirmed from the message:\n",
    "``` bash\n",
    "Also, I noticed we have a conversation about problem 1632B - Roof Construction earlier. If you're still stuck on that one or would like to discuss it further, feel free to bring it up!\n",
    "```\n",
    "We can see it talked about problem 1632B in next query (= \"thank you so much, It worked\")"
   ]
  },
  {
   "cell_type": "markdown",
   "metadata": {},
   "source": [
    "____"
   ]
  },
  {
   "cell_type": "markdown",
   "metadata": {},
   "source": [
    "# __THANKYOU__ :)"
   ]
  }
 ],
 "metadata": {
  "kernelspec": {
   "display_name": "base",
   "language": "python",
   "name": "python3"
  },
  "language_info": {
   "codemirror_mode": {
    "name": "ipython",
    "version": 3
   },
   "file_extension": ".py",
   "mimetype": "text/x-python",
   "name": "python",
   "nbconvert_exporter": "python",
   "pygments_lexer": "ipython3",
   "version": "3.12.7"
  }
 },
 "nbformat": 4,
 "nbformat_minor": 2
}
