{
  "nbformat": 4,
  "nbformat_minor": 0,
  "metadata": {
    "colab": {
      "provenance": []
    },
    "kernelspec": {
      "name": "python3",
      "display_name": "Python 3"
    },
    "language_info": {
      "name": "python"
    }
  },
  "cells": [
    {
      "cell_type": "code",
      "source": [
        "from google.colab import drive\n",
        "drive.flush_and_unmount()\n"
      ],
      "metadata": {
        "id": "Jlp7Lnw7YnFw"
      },
      "execution_count": 58,
      "outputs": []
    },
    {
      "cell_type": "code",
      "execution_count": 59,
      "metadata": {
        "colab": {
          "base_uri": "https://localhost:8080/"
        },
        "id": "fHD0AVorI921",
        "outputId": "f92a6b73-ab62-41f0-fac1-360e1fd7ff5d"
      },
      "outputs": [
        {
          "output_type": "stream",
          "name": "stdout",
          "text": [
            "Mounted at /content/drive\n"
          ]
        }
      ],
      "source": [
        "from google.colab import drive\n",
        "drive.mount('/content/drive')"
      ]
    },
    {
      "cell_type": "code",
      "source": [
        "from langchain.vectorstores import FAISS"
      ],
      "metadata": {
        "id": "wpOwvfR0KLvG"
      },
      "execution_count": 61,
      "outputs": []
    },
    {
      "cell_type": "code",
      "source": [
        "# Import the necessary classes from your uploaded .py files\n",
        "from embeddings import CodeBERTEmbedder\n",
        "from vectorstore import VectorStore\n",
        "from retriever import RAGRetriever\n",
        "from chatbot import CPChatbot"
      ],
      "metadata": {
        "id": "RWZwkyyJKCts"
      },
      "execution_count": 62,
      "outputs": []
    },
    {
      "cell_type": "code",
      "source": [
        "!pip install -q faiss-cpu\n",
        "!pip install -q langchain_community\n",
        "!pip install -q langchain-huggingface"
      ],
      "metadata": {
        "id": "CI3S90BBJDaz"
      },
      "execution_count": 63,
      "outputs": []
    },
    {
      "cell_type": "code",
      "source": [
        "emb=CodeBERTEmbedder()"
      ],
      "metadata": {
        "colab": {
          "base_uri": "https://localhost:8080/"
        },
        "id": "HF9f7v_CQQm_",
        "outputId": "12822e83-5768-454b-e8e2-83649a52e5cc"
      },
      "execution_count": 64,
      "outputs": [
        {
          "output_type": "stream",
          "name": "stderr",
          "text": [
            "If you want to use `RobertaLMHeadModel` as a standalone, add `is_decoder=True.`\n",
            "Some weights of RobertaForCausalLM were not initialized from the model checkpoint at microsoft/codebert-base and are newly initialized: ['lm_head.bias', 'lm_head.decoder.bias', 'lm_head.dense.bias', 'lm_head.dense.weight', 'lm_head.layer_norm.bias', 'lm_head.layer_norm.weight']\n",
            "You should probably TRAIN this model on a down-stream task to be able to use it for predictions and inference.\n"
          ]
        }
      ]
    },
    {
      "cell_type": "code",
      "source": [
        "from langchain.embeddings import HuggingFaceEmbeddings\n",
        "\n",
        "# Instead of assigning to `model`, use `model_name`\n",
        "embedder = HuggingFaceEmbeddings(\n",
        "    model_name=\"sentence-transformers/all-mpnet-base-v2\",\n",
        ")"
      ],
      "metadata": {
        "id": "J6nj-3bGLhQo"
      },
      "execution_count": 65,
      "outputs": []
    },
    {
      "cell_type": "code",
      "source": [
        "vector_store = VectorStore()\n",
        "# vector_store.create_store(embedder)"
      ],
      "metadata": {
        "id": "tCsFWa2GLW3W"
      },
      "execution_count": 66,
      "outputs": []
    },
    {
      "cell_type": "code",
      "source": [
        "retriever = RAGRetriever(embedder, vector_store)"
      ],
      "metadata": {
        "id": "Htd5NqCXNLdV"
      },
      "execution_count": 106,
      "outputs": []
    },
    {
      "cell_type": "code",
      "source": [
        "system_message = \"You are helping with competitive programming problem solutions.\"\n",
        "chatbot = CPChatbot(retriever, system_message)"
      ],
      "metadata": {
        "colab": {
          "base_uri": "https://localhost:8080/"
        },
        "id": "RuUlkrNCNqXx",
        "outputId": "4cb165e4-4a7b-4359-a970-e8bd8530b2fe"
      },
      "execution_count": 69,
      "outputs": [
        {
          "output_type": "stream",
          "name": "stderr",
          "text": [
            "Device set to use cpu\n"
          ]
        }
      ]
    },
    {
      "cell_type": "code",
      "source": [
        "chtbot=CPChatbot(retriever,system_message)"
      ],
      "metadata": {
        "colab": {
          "base_uri": "https://localhost:8080/"
        },
        "id": "3SSMpDJFcFRS",
        "outputId": "2047b6b0-228c-48b8-dd43-dc53f86e6ec3"
      },
      "execution_count": 103,
      "outputs": [
        {
          "output_type": "stream",
          "name": "stderr",
          "text": [
            "Device set to use cpu\n"
          ]
        }
      ]
    },
    {
      "cell_type": "code",
      "source": [
        "query = \"How do I solve problem C from Contest#792?\"\n",
        "response = chtbot.chat(query)\n",
        "print(f\"Chatbot Response: {response}\")"
      ],
      "metadata": {
        "colab": {
          "base_uri": "https://localhost:8080/"
        },
        "id": "hr1S50WeNvn-",
        "outputId": "d8b469cd-0f6c-4b01-bf21-22b4b25b151d"
      },
      "execution_count": 104,
      "outputs": [
        {
          "output_type": "stream",
          "name": "stdout",
          "text": [
            "System Message: You are helping with competitive programming problem solutions.\n"
          ]
        },
        {
          "output_type": "stream",
          "name": "stderr",
          "text": [
            "Setting `pad_token_id` to `eos_token_id`:50256 for open-end generation.\n"
          ]
        },
        {
          "output_type": "stream",
          "name": "stdout",
          "text": [
            "Use the following pieces of context to answer the question at the end. If you don't know the answer, just say that you don't know, don't try to make up an answer.\n",
            "\n",
            "There are n participants in the contests, with Kevin being the 1-st participant. The i-th participant has a rating of ai. During the contests, each participant solves all problems with a difficulty not exceeding their rating, meaning the i-th participant solves the j-th problem if and only if ai≥bj. In each contest, Kevin's rank is one plus the number of participants who solve more problems than\n",
            "\n",
            "Hint 2 \n",
            " The problem reduces to the following: Given a 1s, b 2s, and c 0s, how many ways are there to build a permutation on these objects so that each cycle sums to a multiple of 3? Let f(a,b,c) be the answer. Write some dynamic programming recurrences for f(a,b,c). \n",
            "Hint 3\n",
            "\n",
            "2048D - Kevin and Competition MemoriesRead all the hints.First, remove all contestants with a rating lower than yours, making you the contestant with the lowest rating. Since any problem you can solve can also be solved by everyone else, this does not affect your ranking. These problems can effectively be treated as having infinite difficulty.At this point, you cannot solve any problem, so your\n",
            "\n",
            "1844E - Great GridsWe present two approaches.Approach 1Let the letters 'A', 'B', and 'C' correspond to the numbers 0, 1, and 2 modulo 3 respectively. Consider drawing an arrow between any two adjacent cells in a great grid pointing to the right or down, and label this arrow with the difference of the two cells modulo 3.The conditions imply that all labels are 1 or 2, and in each contiguous 2×2\n",
            "\n",
            "Question: How do I solve problem C from Contest#792?\n",
            "Helpful Answer: This is the easiest part to solve problem C after the above tutorial.\n",
            "If you have a question that has lots of questions, or you want to help anyone who wants a little further help, please feel free to let some people know. Then let us know how to do it.\n",
            "Chatbot Response: Response constructed from retrieved documents.\n"
          ]
        }
      ]
    }
  ]
}